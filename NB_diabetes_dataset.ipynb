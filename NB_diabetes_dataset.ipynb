{
 "cells": [
  {
   "cell_type": "markdown",
   "metadata": {},
   "source": [
    "# Naive Bayes Algorithm for indian pima diabetes dataset"
   ]
  },
  {
   "cell_type": "code",
   "execution_count": 35,
   "metadata": {},
   "outputs": [],
   "source": [
    "import pandas as pd\n",
    "data=pd.read_csv(\"pima-indians-diabetes.csv\",header=0)"
   ]
  },
  {
   "cell_type": "code",
   "execution_count": 36,
   "metadata": {},
   "outputs": [
    {
     "data": {
      "text/html": [
       "<div>\n",
       "<style scoped>\n",
       "    .dataframe tbody tr th:only-of-type {\n",
       "        vertical-align: middle;\n",
       "    }\n",
       "\n",
       "    .dataframe tbody tr th {\n",
       "        vertical-align: top;\n",
       "    }\n",
       "\n",
       "    .dataframe thead th {\n",
       "        text-align: right;\n",
       "    }\n",
       "</style>\n",
       "<table border=\"1\" class=\"dataframe\">\n",
       "  <thead>\n",
       "    <tr style=\"text-align: right;\">\n",
       "      <th></th>\n",
       "      <th>6</th>\n",
       "      <th>148</th>\n",
       "      <th>72</th>\n",
       "      <th>35</th>\n",
       "      <th>0</th>\n",
       "      <th>33.6</th>\n",
       "      <th>0.627</th>\n",
       "      <th>50</th>\n",
       "      <th>1</th>\n",
       "    </tr>\n",
       "  </thead>\n",
       "  <tbody>\n",
       "    <tr>\n",
       "      <th>0</th>\n",
       "      <td>1</td>\n",
       "      <td>85</td>\n",
       "      <td>66</td>\n",
       "      <td>29</td>\n",
       "      <td>0</td>\n",
       "      <td>26.6</td>\n",
       "      <td>0.351</td>\n",
       "      <td>31</td>\n",
       "      <td>0</td>\n",
       "    </tr>\n",
       "    <tr>\n",
       "      <th>1</th>\n",
       "      <td>8</td>\n",
       "      <td>183</td>\n",
       "      <td>64</td>\n",
       "      <td>0</td>\n",
       "      <td>0</td>\n",
       "      <td>23.3</td>\n",
       "      <td>0.672</td>\n",
       "      <td>32</td>\n",
       "      <td>1</td>\n",
       "    </tr>\n",
       "    <tr>\n",
       "      <th>2</th>\n",
       "      <td>1</td>\n",
       "      <td>89</td>\n",
       "      <td>66</td>\n",
       "      <td>23</td>\n",
       "      <td>94</td>\n",
       "      <td>28.1</td>\n",
       "      <td>0.167</td>\n",
       "      <td>21</td>\n",
       "      <td>0</td>\n",
       "    </tr>\n",
       "    <tr>\n",
       "      <th>3</th>\n",
       "      <td>0</td>\n",
       "      <td>137</td>\n",
       "      <td>40</td>\n",
       "      <td>35</td>\n",
       "      <td>168</td>\n",
       "      <td>43.1</td>\n",
       "      <td>2.288</td>\n",
       "      <td>33</td>\n",
       "      <td>1</td>\n",
       "    </tr>\n",
       "    <tr>\n",
       "      <th>4</th>\n",
       "      <td>5</td>\n",
       "      <td>116</td>\n",
       "      <td>74</td>\n",
       "      <td>0</td>\n",
       "      <td>0</td>\n",
       "      <td>25.6</td>\n",
       "      <td>0.201</td>\n",
       "      <td>30</td>\n",
       "      <td>0</td>\n",
       "    </tr>\n",
       "  </tbody>\n",
       "</table>\n",
       "</div>"
      ],
      "text/plain": [
       "   6  148  72  35    0  33.6  0.627  50  1\n",
       "0  1   85  66  29    0  26.6  0.351  31  0\n",
       "1  8  183  64   0    0  23.3  0.672  32  1\n",
       "2  1   89  66  23   94  28.1  0.167  21  0\n",
       "3  0  137  40  35  168  43.1  2.288  33  1\n",
       "4  5  116  74   0    0  25.6  0.201  30  0"
      ]
     },
     "execution_count": 36,
     "metadata": {},
     "output_type": "execute_result"
    }
   ],
   "source": [
    "data.head()"
   ]
  },
  {
   "cell_type": "code",
   "execution_count": null,
   "metadata": {},
   "outputs": [],
   "source": []
  },
  {
   "cell_type": "code",
   "execution_count": 37,
   "metadata": {},
   "outputs": [
    {
     "name": "stdout",
     "output_type": "stream",
     "text": [
      "['pregnancies' 'glucose' 'blood_pressure' 'skin_thickness' 'insulin' 'BMI'\n",
      " 'DBF' 'age' 'diabetes']\n"
     ]
    }
   ],
   "source": [
    "col_names_prev=list(data)\n",
    "col_names_new= ['pregnancies',\n",
    " 'glucose',\n",
    " 'blood_pressure',\n",
    " 'skin_thickness',\n",
    " 'insulin',\n",
    " 'BMI',\n",
    " 'DBF',#Diabetes pedigree function\n",
    " 'age',\n",
    " 'diabetes',\n",
    " ]\n",
    "data.columns= col_names_new\n",
    "print(data.columns.values)\n",
    "data= data.set_index('pregnancies')"
   ]
  },
  {
   "cell_type": "code",
   "execution_count": 39,
   "metadata": {},
   "outputs": [
    {
     "name": "stdout",
     "output_type": "stream",
     "text": [
      "glucose           120.859192\n",
      "blood_pressure     69.101695\n",
      "skin_thickness     20.517601\n",
      "insulin            79.903520\n",
      "BMI                31.990482\n",
      "DBF                 0.471674\n",
      "age                33.219035\n",
      "diabetes            0.348110\n",
      "dtype: float64\n"
     ]
    }
   ],
   "source": [
    "print(data.mean())"
   ]
  },
  {
   "cell_type": "code",
   "execution_count": 40,
   "metadata": {},
   "outputs": [
    {
     "name": "stdout",
     "output_type": "stream",
     "text": [
      "<bound method DataFrame.std of              glucose  blood_pressure  skin_thickness  insulin   BMI    DBF  \\\n",
      "pregnancies                                                                  \n",
      "1                 85              66              29        0  26.6  0.351   \n",
      "8                183              64               0        0  23.3  0.672   \n",
      "1                 89              66              23       94  28.1  0.167   \n",
      "0                137              40              35      168  43.1  2.288   \n",
      "5                116              74               0        0  25.6  0.201   \n",
      "3                 78              50              32       88  31.0  0.248   \n",
      "10               115               0               0        0  35.3  0.134   \n",
      "2                197              70              45      543  30.5  0.158   \n",
      "8                125              96               0        0   0.0  0.232   \n",
      "4                110              92               0        0  37.6  0.191   \n",
      "10               168              74               0        0  38.0  0.537   \n",
      "10               139              80               0        0  27.1  1.441   \n",
      "1                189              60              23      846  30.1  0.398   \n",
      "5                166              72              19      175  25.8  0.587   \n",
      "7                100               0               0        0  30.0  0.484   \n",
      "0                118              84              47      230  45.8  0.551   \n",
      "7                107              74               0        0  29.6  0.254   \n",
      "1                103              30              38       83  43.3  0.183   \n",
      "1                115              70              30       96  34.6  0.529   \n",
      "3                126              88              41      235  39.3  0.704   \n",
      "8                 99              84               0        0  35.4  0.388   \n",
      "7                196              90               0        0  39.8  0.451   \n",
      "9                119              80              35        0  29.0  0.263   \n",
      "11               143              94              33      146  36.6  0.254   \n",
      "10               125              70              26      115  31.1  0.205   \n",
      "7                147              76               0        0  39.4  0.257   \n",
      "1                 97              66              15      140  23.2  0.487   \n",
      "13               145              82              19      110  22.2  0.245   \n",
      "5                117              92               0        0  34.1  0.337   \n",
      "5                109              75              26        0  36.0  0.546   \n",
      "...              ...             ...             ...      ...   ...    ...   \n",
      "2                 99              60              17      160  36.6  0.453   \n",
      "1                102              74               0        0  39.5  0.293   \n",
      "11               120              80              37      150  42.3  0.785   \n",
      "3                102              44              20       94  30.8  0.400   \n",
      "1                109              58              18      116  28.5  0.219   \n",
      "9                140              94               0        0  32.7  0.734   \n",
      "13               153              88              37      140  40.6  1.174   \n",
      "12               100              84              33      105  30.0  0.488   \n",
      "1                147              94              41        0  49.3  0.358   \n",
      "1                 81              74              41       57  46.3  1.096   \n",
      "3                187              70              22      200  36.4  0.408   \n",
      "6                162              62               0        0  24.3  0.178   \n",
      "4                136              70               0        0  31.2  1.182   \n",
      "1                121              78              39       74  39.0  0.261   \n",
      "3                108              62              24        0  26.0  0.223   \n",
      "0                181              88              44      510  43.3  0.222   \n",
      "8                154              78              32        0  32.4  0.443   \n",
      "1                128              88              39      110  36.5  1.057   \n",
      "7                137              90              41        0  32.0  0.391   \n",
      "0                123              72               0        0  36.3  0.258   \n",
      "1                106              76               0        0  37.5  0.197   \n",
      "6                190              92               0        0  35.5  0.278   \n",
      "2                 88              58              26       16  28.4  0.766   \n",
      "9                170              74              31        0  44.0  0.403   \n",
      "9                 89              62               0        0  22.5  0.142   \n",
      "10               101              76              48      180  32.9  0.171   \n",
      "2                122              70              27        0  36.8  0.340   \n",
      "5                121              72              23      112  26.2  0.245   \n",
      "1                126              60               0        0  30.1  0.349   \n",
      "1                 93              70              31        0  30.4  0.315   \n",
      "\n",
      "             age  diabetes  \n",
      "pregnancies                 \n",
      "1             31         0  \n",
      "8             32         1  \n",
      "1             21         0  \n",
      "0             33         1  \n",
      "5             30         0  \n",
      "3             26         1  \n",
      "10            29         0  \n",
      "2             53         1  \n",
      "8             54         1  \n",
      "4             30         0  \n",
      "10            34         1  \n",
      "10            57         0  \n",
      "1             59         1  \n",
      "5             51         1  \n",
      "7             32         1  \n",
      "0             31         1  \n",
      "7             31         1  \n",
      "1             33         0  \n",
      "1             32         1  \n",
      "3             27         0  \n",
      "8             50         0  \n",
      "7             41         1  \n",
      "9             29         1  \n",
      "11            51         1  \n",
      "10            41         1  \n",
      "7             43         1  \n",
      "1             22         0  \n",
      "13            57         0  \n",
      "5             38         0  \n",
      "5             60         0  \n",
      "...          ...       ...  \n",
      "2             21         0  \n",
      "1             42         1  \n",
      "11            48         1  \n",
      "3             26         0  \n",
      "1             22         0  \n",
      "9             45         1  \n",
      "13            39         0  \n",
      "12            46         0  \n",
      "1             27         1  \n",
      "1             32         0  \n",
      "3             36         1  \n",
      "6             50         1  \n",
      "4             22         1  \n",
      "1             28         0  \n",
      "3             25         0  \n",
      "0             26         1  \n",
      "8             45         1  \n",
      "1             37         1  \n",
      "7             39         0  \n",
      "0             52         1  \n",
      "1             26         0  \n",
      "6             66         1  \n",
      "2             22         0  \n",
      "9             43         1  \n",
      "9             33         0  \n",
      "10            63         0  \n",
      "2             27         0  \n",
      "5             30         0  \n",
      "1             47         1  \n",
      "1             23         0  \n",
      "\n",
      "[767 rows x 8 columns]>\n"
     ]
    }
   ],
   "source": [
    "print(data.std)"
   ]
  },
  {
   "cell_type": "code",
   "execution_count": 26,
   "metadata": {},
   "outputs": [],
   "source": [
    "from sklearn.cross_validation import train_test_split"
   ]
  },
  {
   "cell_type": "code",
   "execution_count": 27,
   "metadata": {},
   "outputs": [],
   "source": [
    "X = data.loc[:, data.columns != 'diabetes'] # all columns in X except the state\n",
    "y = data.loc[:, data.columns == 'diabetes'] # state column in y"
   ]
  },
  {
   "cell_type": "code",
   "execution_count": 28,
   "metadata": {},
   "outputs": [],
   "source": [
    "X_train, X_test, y_train, y_test = train_test_split(X, y, test_size=0.2, random_state=0)"
   ]
  },
  {
   "cell_type": "code",
   "execution_count": 30,
   "metadata": {},
   "outputs": [
    {
     "name": "stdout",
     "output_type": "stream",
     "text": [
      "             glucose  blood_pressure  skin_thickness  insulin   BMI    DBF  \\\n",
      "pregnancies                                                                  \n",
      "4                183               0               0        0  28.4  0.212   \n",
      "4                 99              76              15       51  23.2  0.223   \n",
      "9                124              70              33      402  35.4  0.282   \n",
      "2                 88              74              19       53  29.0  0.229   \n",
      "6                154              78              41      140  46.1  0.571   \n",
      "8                 85              55              20        0  24.4  0.136   \n",
      "0                137              68              14      148  24.8  0.143   \n",
      "4                129              60              12      231  27.5  0.527   \n",
      "6                 93              50              30       64  28.7  0.356   \n",
      "0                107              76               0        0  45.3  0.686   \n",
      "2                102              86              36      120  45.5  0.127   \n",
      "2                112              86              42      160  38.4  0.246   \n",
      "6                129              90               7      326  19.6  0.582   \n",
      "1                128              82              17      183  27.5  0.115   \n",
      "3                 87              60              18        0  21.8  0.444   \n",
      "0                 57              60               0        0  21.7  0.735   \n",
      "1                173              74               0        0  36.8  0.088   \n",
      "5                 88              78              30        0  27.6  0.258   \n",
      "1                103              30              38       83  43.3  0.183   \n",
      "11               120              80              37      150  42.3  0.785   \n",
      "4                123              62               0        0  32.0  0.226   \n",
      "3                139              54               0        0  25.6  0.402   \n",
      "8                126              88              36      108  38.5  0.349   \n",
      "5                115              98               0        0  52.9  0.209   \n",
      "6                 80              80              36        0  39.8  0.177   \n",
      "4                 91              70              32       88  33.1  0.446   \n",
      "6                134              70              23      130  35.4  0.542   \n",
      "2                121              70              32       95  39.1  0.886   \n",
      "2                 89              90              30        0  33.5  0.292   \n",
      "1                146              56               0        0  29.7  0.564   \n",
      "...              ...             ...             ...      ...   ...    ...   \n",
      "1                163              72               0        0  39.0  1.222   \n",
      "0                120              74              18       63  30.5  0.285   \n",
      "1                 80              74              11       60  30.0  0.527   \n",
      "3                158              64              13      387  31.2  0.295   \n",
      "5                124              74               0        0  34.0  0.220   \n",
      "4                129              86              20      270  35.1  0.231   \n",
      "0                127              80              37      210  36.3  0.804   \n",
      "3                121              52               0        0  36.0  0.127   \n",
      "8                154              78              32        0  32.4  0.443   \n",
      "8                179              72              42      130  32.7  0.719   \n",
      "15               136              70              32      110  37.1  0.153   \n",
      "6                114              88               0        0  27.8  0.247   \n",
      "0                173              78              32      265  46.5  1.159   \n",
      "10               115               0               0        0   0.0  0.261   \n",
      "2                112              68              22       94  34.1  0.315   \n",
      "0                131              66              40        0  34.3  0.196   \n",
      "6                 96               0               0        0  23.7  0.190   \n",
      "7                136              90               0        0  29.9  0.210   \n",
      "5                139              64              35      140  28.6  0.411   \n",
      "1                108              88              19        0  27.1  0.400   \n",
      "1                128              88              39      110  36.5  1.057   \n",
      "5                114              74               0        0  24.9  0.744   \n",
      "1                111              94               0        0  32.8  0.265   \n",
      "4                110              92               0        0  37.6  0.191   \n",
      "5                189              64              33      325  31.2  0.583   \n",
      "9                164              78               0        0  32.8  0.148   \n",
      "11               135               0               0        0  52.3  0.578   \n",
      "7                114              64               0        0  27.4  0.732   \n",
      "6                125              76               0        0  33.8  0.121   \n",
      "2                129              74              26      205  33.2  0.591   \n",
      "\n",
      "             age  \n",
      "pregnancies       \n",
      "4             36  \n",
      "4             21  \n",
      "9             34  \n",
      "2             22  \n",
      "6             27  \n",
      "8             42  \n",
      "0             21  \n",
      "4             31  \n",
      "6             23  \n",
      "0             24  \n",
      "2             23  \n",
      "2             28  \n",
      "6             60  \n",
      "1             22  \n",
      "3             21  \n",
      "0             67  \n",
      "1             38  \n",
      "5             37  \n",
      "1             33  \n",
      "11            48  \n",
      "4             35  \n",
      "3             22  \n",
      "8             49  \n",
      "5             28  \n",
      "6             28  \n",
      "4             22  \n",
      "6             29  \n",
      "2             23  \n",
      "2             42  \n",
      "1             29  \n",
      "...          ...  \n",
      "1             33  \n",
      "0             26  \n",
      "1             22  \n",
      "3             24  \n",
      "5             38  \n",
      "4             23  \n",
      "0             23  \n",
      "3             25  \n",
      "8             45  \n",
      "8             36  \n",
      "15            43  \n",
      "6             66  \n",
      "0             58  \n",
      "10            30  \n",
      "2             26  \n",
      "0             22  \n",
      "6             28  \n",
      "7             50  \n",
      "5             26  \n",
      "1             24  \n",
      "1             37  \n",
      "5             57  \n",
      "1             45  \n",
      "4             30  \n",
      "5             29  \n",
      "9             45  \n",
      "11            40  \n",
      "7             34  \n",
      "6             54  \n",
      "2             25  \n",
      "\n",
      "[613 rows x 7 columns]\n"
     ]
    }
   ],
   "source": []
  },
  {
   "cell_type": "code",
   "execution_count": 48,
   "metadata": {},
   "outputs": [],
   "source": [
    "\n",
    "from sklearn.metrics import classification_report\n",
    "from sklearn.naive_bayes import GaussianNB\n"
   ]
  },
  {
   "cell_type": "code",
   "execution_count": 44,
   "metadata": {},
   "outputs": [
    {
     "name": "stderr",
     "output_type": "stream",
     "text": [
      "/anaconda3/lib/python3.6/site-packages/sklearn/utils/validation.py:578: DataConversionWarning: A column-vector y was passed when a 1d array was expected. Please change the shape of y to (n_samples, ), for example using ravel().\n",
      "  y = column_or_1d(y, warn=True)\n"
     ]
    },
    {
     "data": {
      "text/plain": [
       "GaussianNB(priors=None)"
      ]
     },
     "execution_count": 44,
     "metadata": {},
     "output_type": "execute_result"
    }
   ],
   "source": [
    "model = GaussianNB()\n",
    "model.fit(X_train,y_train)"
   ]
  },
  {
   "cell_type": "code",
   "execution_count": 45,
   "metadata": {},
   "outputs": [],
   "source": [
    "y_pred = model.predict(X_test)"
   ]
  },
  {
   "cell_type": "code",
   "execution_count": 46,
   "metadata": {},
   "outputs": [
    {
     "name": "stdout",
     "output_type": "stream",
     "text": [
      "Accuracy of logistic regression classifier on test set: 0.81\n"
     ]
    }
   ],
   "source": [
    "print('Accuracy of logistic regression classifier on test set: {:.2f}'.format(model.score(X_test, y_test))) "
   ]
  },
  {
   "cell_type": "code",
   "execution_count": 49,
   "metadata": {},
   "outputs": [
    {
     "name": "stdout",
     "output_type": "stream",
     "text": [
      "             precision    recall  f1-score   support\n",
      "\n",
      "          0       0.82      0.90      0.86       101\n",
      "          1       0.77      0.62      0.69        53\n",
      "\n",
      "avg / total       0.80      0.81      0.80       154\n",
      "\n"
     ]
    }
   ],
   "source": [
    "print(classification_report(y_test, y_pred)) "
   ]
  },
  {
   "cell_type": "code",
   "execution_count": null,
   "metadata": {},
   "outputs": [],
   "source": []
  }
 ],
 "metadata": {
  "kernelspec": {
   "display_name": "Python 3",
   "language": "python",
   "name": "python3"
  },
  "language_info": {
   "codemirror_mode": {
    "name": "ipython",
    "version": 3
   },
   "file_extension": ".py",
   "mimetype": "text/x-python",
   "name": "python",
   "nbconvert_exporter": "python",
   "pygments_lexer": "ipython3",
   "version": "3.6.5"
  }
 },
 "nbformat": 4,
 "nbformat_minor": 2
}
